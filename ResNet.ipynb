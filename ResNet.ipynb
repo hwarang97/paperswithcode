{
  "nbformat": 4,
  "nbformat_minor": 0,
  "metadata": {
    "colab": {
      "provenance": [],
      "machine_shape": "hm",
      "gpuType": "A100",
      "authorship_tag": "ABX9TyOaiWfw6eJC+248NI/4YcwO",
      "include_colab_link": true
    },
    "kernelspec": {
      "name": "python3",
      "display_name": "Python 3"
    },
    "language_info": {
      "name": "python"
    },
    "accelerator": "GPU"
  },
  "cells": [
    {
      "cell_type": "markdown",
      "metadata": {
        "id": "view-in-github",
        "colab_type": "text"
      },
      "source": [
        "<a href=\"https://colab.research.google.com/github/hwarang97/paperswithcode/blob/main/ResNet.ipynb\" target=\"_parent\"><img src=\"https://colab.research.google.com/assets/colab-badge.svg\" alt=\"Open In Colab\"/></a>"
      ]
    },
    {
      "cell_type": "code",
      "execution_count": null,
      "metadata": {
        "colab": {
          "base_uri": "https://localhost:8080/"
        },
        "id": "nugdvnAvrFZx",
        "outputId": "63a66003-4742-49b9-dcbc-d94c2ffd4e71"
      },
      "outputs": [
        {
          "output_type": "stream",
          "name": "stdout",
          "text": [
            "Drive already mounted at /content/drive/; to attempt to forcibly remount, call drive.mount(\"/content/drive/\", force_remount=True).\n",
            "Collecting torchinfo\n",
            "  Downloading torchinfo-1.8.0-py3-none-any.whl (23 kB)\n",
            "Installing collected packages: torchinfo\n",
            "Successfully installed torchinfo-1.8.0\n",
            "cuda\n"
          ]
        }
      ],
      "source": [
        "import torch\n",
        "import torch.nn as nn\n",
        "from tqdm import tqdm\n",
        "\n",
        "from google.colab import drive\n",
        "drive.mount('/content/drive/')\n",
        "\n",
        "!pip install torchinfo\n",
        "from torchinfo import summary\n",
        "\n",
        "DEVICE = 'cuda' if torch.cuda.is_available() else 'cpu'\n",
        "print(DEVICE)"
      ]
    },
    {
      "cell_type": "code",
      "source": [
        "class BasicConv2d(nn.Module):\n",
        "    def __init__(self, in_channels):\n",
        "        super().__init__()\n",
        "        self.block = nn.Sequential(\n",
        "            nn.Conv2d(in_channels, in_channels, kernel_size=3, stride=1, padding=1, bias=False, ),\n",
        "            nn.BatchNorm2d(in_channels),\n",
        "            nn.ReLU()\n",
        "        )\n",
        "\n",
        "    def forward(self, x):\n",
        "        x = self.block(x)\n",
        "        return x\n",
        "\n",
        "class Identity_Block(nn.Module):\n",
        "    def __init__(self, in_channels):\n",
        "        super().__init__()\n",
        "        self.block = nn.Sequential(\n",
        "            BasicConv2d(in_channels),\n",
        "            BasicConv2d(in_channels)\n",
        "        )\n",
        "\n",
        "    def forward(self, x):\n",
        "        x = self.block(x)\n",
        "        return x\n",
        "\n",
        "class projection_Block(nn.Module):\n",
        "    def __init__(self, in_channels):\n",
        "        super().__init__()\n",
        "        self.block = nn.Sequential(\n",
        "            nn.Conv2d(in_channels, 2*in_channels, kernel_size=3, stride=2, padding=1, bias=False),\n",
        "            nn.BatchNorm2d(2*in_channels),\n",
        "            nn.ReLU(),\n",
        "            BasicConv2d(2*in_channels)\n",
        "        )\n",
        "\n",
        "    def forward(self, x):\n",
        "        x = self.block(x)\n",
        "        return x\n",
        "\n",
        "class ResNet(nn.Module):\n",
        "    def __init__(self):\n",
        "        super().__init__()\n",
        "        self.conv_2 = nn.Sequential(\n",
        "            Identity_Block(64),\n",
        "            Identity_Block(64),\n",
        "            Identity_Block(64)\n",
        "        )\n",
        "        self.conv_3 = nn.Sequential(\n",
        "            projection_Block(64),\n",
        "            Identity_Block(128),\n",
        "            Identity_Block(128),\n",
        "            Identity_Block(128)\n",
        "        )\n",
        "        self.conv_4 = nn.Sequential(\n",
        "            projection_Block(128),\n",
        "            Identity_Block(256),\n",
        "            Identity_Block(256),\n",
        "            Identity_Block(256)\n",
        "        )\n",
        "        self.conv_5 = nn.Sequential(\n",
        "            projection_Block(256),\n",
        "            Identity_Block(512),\n",
        "            Identity_Block(512)\n",
        "        )\n",
        "        self.gap = nn.AvgPool2d(7)\n",
        "        self.fc = nn.Linear(512,1000)\n",
        "\n",
        "    def forward(self, x):\n",
        "        x = self.conv_2(x)\n",
        "        x = self.conv_3(x)\n",
        "        x = self.conv_4(x)\n",
        "        x = self.conv_5(x)\n",
        "        x = self.gap(x)\n",
        "        x = torch.flatten(x, start_dim=1)\n",
        "        x = self.fc(x)\n",
        "        return x"
      ],
      "metadata": {
        "id": "2D-Ks0kkrzjp"
      },
      "execution_count": null,
      "outputs": []
    },
    {
      "cell_type": "code",
      "source": [
        "model = ResNet()\n",
        "model.train()\n",
        "\n",
        "summary(model, input_size=(10,64,56,56))"
      ],
      "metadata": {
        "colab": {
          "base_uri": "https://localhost:8080/"
        },
        "id": "NZmKr9Sv5Vi8",
        "outputId": "b892852a-3672-454a-f344-3817bb335e4c"
      },
      "execution_count": null,
      "outputs": [
        {
          "output_type": "execute_result",
          "data": {
            "text/plain": [
              "====================================================================================================\n",
              "Layer (type:depth-idx)                             Output Shape              Param #\n",
              "====================================================================================================\n",
              "ResNet                                             [10, 1000]                --\n",
              "├─Sequential: 1-1                                  [10, 64, 56, 56]          --\n",
              "│    └─Identity_Block: 2-1                         [10, 64, 56, 56]          --\n",
              "│    │    └─Sequential: 3-1                        [10, 64, 56, 56]          73,984\n",
              "│    └─Identity_Block: 2-2                         [10, 64, 56, 56]          --\n",
              "│    │    └─Sequential: 3-2                        [10, 64, 56, 56]          73,984\n",
              "│    └─Identity_Block: 2-3                         [10, 64, 56, 56]          --\n",
              "│    │    └─Sequential: 3-3                        [10, 64, 56, 56]          73,984\n",
              "├─Sequential: 1-2                                  [10, 128, 28, 28]         --\n",
              "│    └─projection_Block: 2-4                       [10, 128, 28, 28]         --\n",
              "│    │    └─Sequential: 3-4                        [10, 128, 28, 28]         221,696\n",
              "│    └─Identity_Block: 2-5                         [10, 128, 28, 28]         --\n",
              "│    │    └─Sequential: 3-5                        [10, 128, 28, 28]         295,424\n",
              "│    └─Identity_Block: 2-6                         [10, 128, 28, 28]         --\n",
              "│    │    └─Sequential: 3-6                        [10, 128, 28, 28]         295,424\n",
              "│    └─Identity_Block: 2-7                         [10, 128, 28, 28]         --\n",
              "│    │    └─Sequential: 3-7                        [10, 128, 28, 28]         295,424\n",
              "├─Sequential: 1-3                                  [10, 256, 14, 14]         --\n",
              "│    └─projection_Block: 2-8                       [10, 256, 14, 14]         --\n",
              "│    │    └─Sequential: 3-8                        [10, 256, 14, 14]         885,760\n",
              "│    └─Identity_Block: 2-9                         [10, 256, 14, 14]         --\n",
              "│    │    └─Sequential: 3-9                        [10, 256, 14, 14]         1,180,672\n",
              "│    └─Identity_Block: 2-10                        [10, 256, 14, 14]         --\n",
              "│    │    └─Sequential: 3-10                       [10, 256, 14, 14]         1,180,672\n",
              "│    └─Identity_Block: 2-11                        [10, 256, 14, 14]         --\n",
              "│    │    └─Sequential: 3-11                       [10, 256, 14, 14]         1,180,672\n",
              "├─Sequential: 1-4                                  [10, 512, 7, 7]           --\n",
              "│    └─projection_Block: 2-12                      [10, 512, 7, 7]           --\n",
              "│    │    └─Sequential: 3-12                       [10, 512, 7, 7]           3,540,992\n",
              "│    └─Identity_Block: 2-13                        [10, 512, 7, 7]           --\n",
              "│    │    └─Sequential: 3-13                       [10, 512, 7, 7]           4,720,640\n",
              "│    └─Identity_Block: 2-14                        [10, 512, 7, 7]           --\n",
              "│    │    └─Sequential: 3-14                       [10, 512, 7, 7]           4,720,640\n",
              "├─AvgPool2d: 1-5                                   [10, 512, 1, 1]           --\n",
              "├─Linear: 1-6                                      [10, 1000]                513,000\n",
              "====================================================================================================\n",
              "Total params: 19,252,968\n",
              "Trainable params: 19,252,968\n",
              "Non-trainable params: 0\n",
              "Total mult-adds (G): 30.64\n",
              "====================================================================================================\n",
              "Input size (MB): 8.03\n",
              "Forward/backward pass size (MB): 409.52\n",
              "Params size (MB): 77.01\n",
              "Estimated Total Size (MB): 494.56\n",
              "===================================================================================================="
            ]
          },
          "metadata": {},
          "execution_count": 16
        }
      ]
    }
  ]
}