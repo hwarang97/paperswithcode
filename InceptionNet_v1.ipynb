{
  "nbformat": 4,
  "nbformat_minor": 0,
  "metadata": {
    "colab": {
      "provenance": []
    },
    "kernelspec": {
      "name": "python3",
      "display_name": "Python 3"
    },
    "language_info": {
      "name": "python"
    }
  },
  "cells": [
    {
      "cell_type": "markdown",
      "source": [
        "# Libraries"
      ],
      "metadata": {
        "id": "fpissyETfRmt"
      }
    },
    {
      "cell_type": "code",
      "execution_count": 8,
      "metadata": {
        "colab": {
          "base_uri": "https://localhost:8080/"
        },
        "id": "lRXUbG5aCsFg",
        "outputId": "2985beea-cf20-4b28-b1cd-d8724c9126fe"
      },
      "outputs": [
        {
          "output_type": "stream",
          "name": "stdout",
          "text": [
            "Requirement already satisfied: torchinfo in /usr/local/lib/python3.10/dist-packages (1.8.0)\n",
            "Drive already mounted at /content/drive; to attempt to forcibly remount, call drive.mount(\"/content/drive\", force_remount=True).\n"
          ]
        }
      ],
      "source": [
        "import torch\n",
        "from torch import nn, optim\n",
        "from google.colab import drive\n",
        "\n",
        "!pip install torchinfo\n",
        "from torchinfo import summary\n",
        "\n",
        "from torchvision import datasets, transforms\n",
        "from torch.optim.lr_scheduler import StepLR\n",
        "from tqdm import tqdm\n",
        "import time\n",
        "\n",
        "drive.mount('/content/drive')\n",
        "DEVICE = 'cuda' if torch.cuda.is_available() else 'cpu'"
      ]
    },
    {
      "cell_type": "markdown",
      "source": [
        "# Inception Model"
      ],
      "metadata": {
        "id": "GkgPNqZpfVvX"
      }
    },
    {
      "cell_type": "code",
      "source": [
        "from torch.nn.modules.dropout import Dropout2d\n",
        "class BasicConv2d(nn.Module):\n",
        "    def __init__(self, in_channels, out_channels, **kwargs):\n",
        "        super().__init__()\n",
        "        self.convblock = nn.Sequential(nn.Conv2d(in_channels, out_channels, bias=False, **kwargs),\n",
        "                                       nn.BatchNorm2d(out_channels),\n",
        "                                       nn.ReLU())\n",
        "\n",
        "    def forward(self, x):\n",
        "        output = self.convblock(x)\n",
        "        return output\n",
        "\n",
        "class InceptionNet(nn.Module):\n",
        "    def __init__(self, in_channels, ch1x1, ch3x3red, ch3x3, ch5x5red, ch5x5, pool):\n",
        "        super().__init__()\n",
        "        self.path1 = nn.Sequential(BasicConv2d(in_channels, ch1x1, kernel_size=1))\n",
        "        self.path2 = nn.Sequential(BasicConv2d(in_channels, ch3x3red, kernel_size=1),\n",
        "                                   BasicConv2d(ch3x3red, ch3x3, kernel_size=3, padding=1))\n",
        "        self.path3 = nn.Sequential(BasicConv2d(in_channels, ch5x5red, kernel_size=1),\n",
        "                                   BasicConv2d(ch5x5red, ch5x5, kernel_size=3, padding=1))\n",
        "        self.path4 = nn.Sequential(nn.MaxPool2d(kernel_size=3, stride=1, padding=1),\n",
        "                                   BasicConv2d(in_channels, pool, kernel_size=1))\n",
        "\n",
        "    def forward(self, x):\n",
        "        output1 = self.path1(x)\n",
        "        output2 = self.path2(x)\n",
        "        output3 = self.path3(x)\n",
        "        output4 = self.path4(x)\n",
        "        output = [output1, output2, output3, output4]\n",
        "        return torch.concat(output, dim=1) # dim=1, num*ch*row*col\n",
        "\n",
        "class InceptionAux(nn.Module):\n",
        "    def __init__(self, in_channels, num_classes):\n",
        "        super().__init__()\n",
        "        self.path = nn.Sequential(nn.AvgPool2d(kernel_size=5, stride=3),\n",
        "                                  BasicConv2d(in_channels, 128, kernel_size=1),\n",
        "                                  nn.Flatten(start_dim=1),\n",
        "                                  nn.Linear(2048, 1028, bias=False),\n",
        "                                  nn.ReLU(),\n",
        "                                  nn.Dropout2d(p=0.7),\n",
        "                                  nn.Linear(1028, num_classes))\n",
        "\n",
        "    def forward(self, x):\n",
        "        output = self.path(x)\n",
        "        return output\n",
        "\n",
        "class InceptionNet_V1(nn.Module):\n",
        "    def __init__(self, num_classes):\n",
        "        super().__init__()\n",
        "        self.conv1 = BasicConv2d(3, 64, kernel_size=7, stride=2, padding=3)\n",
        "        self.max1 = nn.MaxPool2d(kernel_size=3, stride=2, padding=1)\n",
        "        self.conv2 = BasicConv2d(64, 192, kernel_size=3, stride=1)\n",
        "\n",
        "        self.max2 = nn.MaxPool2d(kernel_size=3, stride=2, padding=1)\n",
        "        self.incept3a = InceptionNet(192, 64, 96, 128, 16, 32, 32)\n",
        "        self.incept3b = InceptionNet(256, 128, 128, 192, 32, 96, 64)\n",
        "\n",
        "        self.max3 = nn.MaxPool2d(kernel_size=3, stride=2, padding=1)\n",
        "        self.incept4a = InceptionNet(480, 192, 96, 208, 16, 48, 64)\n",
        "        self.incept4b = InceptionNet(512, 160, 112, 224, 24, 64, 64)\n",
        "        self.incept4c = InceptionNet(512, 128, 128, 256, 24, 64, 64)\n",
        "        self.incept4d = InceptionNet(512, 112, 144, 288, 32, 64, 64)\n",
        "        self.incept4e = InceptionNet(528, 256, 160, 320, 32, 128, 128)\n",
        "\n",
        "        self.max4 = nn.MaxPool2d(kernel_size=3, stride=2, padding=1)\n",
        "        self.incept5a = InceptionNet(832, 256, 160, 320, 32, 128, 128)\n",
        "        self.incept5b = InceptionNet(832, 384, 192, 384, 48, 128, 128)\n",
        "        self.avg = nn.AvgPool2d(kernel_size=7, stride=1)\n",
        "        self.linear = nn.Linear(1024, num_classes)\n",
        "\n",
        "        if self.training:\n",
        "            self.aux1 = InceptionAux(512, num_classes)\n",
        "            self.aux2 = InceptionAux(528, num_classes)\n",
        "        else:\n",
        "            self.aux1 = None\n",
        "            self.axu2 = None\n",
        "\n",
        "\n",
        "    def forward(self, x):\n",
        "\n",
        "        x = self.conv1(x)    # 64x112x112\n",
        "        x = self.max1(x)     # 64x56x56\n",
        "        x = self.conv2(x)    # 192x56x56\n",
        "\n",
        "        x = self.max2(x)     # 192x28x28\n",
        "        x = self.incept3a(x) # 256x28x28\n",
        "        x = self.incept3b(x) # 480x28x28\n",
        "\n",
        "        x = self.max3(x)     # 480x14x14\n",
        "        x = self.incept4a(x) # 512x14x14\n",
        "\n",
        "        if self.aux1 is not None and self.training:\n",
        "            aux1 = self.aux1(x)\n",
        "        x = self.incept4b(x) # 512x14x14\n",
        "        print('forward working')\n",
        "        x = self.incept4c(x) # 512x14x14\n",
        "        x = self.incept4d(x) # 528x14x14\n",
        "\n",
        "        if self.aux2 is not None and self.training:\n",
        "            aux2 = self.aux2(x)\n",
        "\n",
        "        x = self.incept4e(x) # 832x14x14\n",
        "\n",
        "        x = self.max4(x)     # 832x7x7\n",
        "        x = self.incept5a(x) # 832x7x7\n",
        "        x = self.incept5b(x) # 1024x7x7\n",
        "\n",
        "        x = self.avg(x)      # 1024x1x1\n",
        "        x = torch.flatten(x, start_dim=1)\n",
        "        x = torch.dropout(x, p=0.7, train=True)\n",
        "        x = self.linear(x) # 1000x1x1\n",
        "\n",
        "        if self.training:\n",
        "            return aux1, aux2, x\n",
        "        else:\n",
        "            return x"
      ],
      "metadata": {
        "id": "gS8igw5jDbvi"
      },
      "execution_count": 21,
      "outputs": []
    },
    {
      "cell_type": "code",
      "source": [
        "a = InceptionNet_V1(1000)\n",
        "a.train()\n",
        "summary(a, input_size=(10,3,224,224))"
      ],
      "metadata": {
        "colab": {
          "base_uri": "https://localhost:8080/"
        },
        "id": "_1T8AGpzuuQB",
        "outputId": "3f200477-0fe1-4605-9270-cc21adf0812d"
      },
      "execution_count": 18,
      "outputs": [
        {
          "output_type": "stream",
          "name": "stdout",
          "text": [
            "working\n",
            "forward working\n"
          ]
        },
        {
          "output_type": "execute_result",
          "data": {
            "text/plain": [
              "===============================================================================================\n",
              "Layer (type:depth-idx)                        Output Shape              Param #\n",
              "===============================================================================================\n",
              "InceptionNet_V1                               [10, 1000]                6,402,320\n",
              "├─BasicConv2d: 1-1                            [10, 64, 112, 112]        --\n",
              "│    └─Sequential: 2-1                        [10, 64, 112, 112]        --\n",
              "│    │    └─Conv2d: 3-1                       [10, 64, 112, 112]        9,408\n",
              "│    │    └─BatchNorm2d: 3-2                  [10, 64, 112, 112]        128\n",
              "│    │    └─ReLU: 3-3                         [10, 64, 112, 112]        --\n",
              "├─MaxPool2d: 1-2                              [10, 64, 56, 56]          --\n",
              "├─BasicConv2d: 1-3                            [10, 192, 54, 54]         --\n",
              "│    └─Sequential: 2-2                        [10, 192, 54, 54]         --\n",
              "│    │    └─Conv2d: 3-4                       [10, 192, 54, 54]         110,592\n",
              "│    │    └─BatchNorm2d: 3-5                  [10, 192, 54, 54]         384\n",
              "│    │    └─ReLU: 3-6                         [10, 192, 54, 54]         --\n",
              "├─MaxPool2d: 1-4                              [10, 192, 27, 27]         --\n",
              "├─InceptionNet: 1-5                           [10, 256, 27, 27]         --\n",
              "│    └─Sequential: 2-3                        [10, 64, 27, 27]          --\n",
              "│    │    └─BasicConv2d: 3-7                  [10, 64, 27, 27]          12,416\n",
              "│    └─Sequential: 2-4                        [10, 128, 27, 27]         --\n",
              "│    │    └─BasicConv2d: 3-8                  [10, 96, 27, 27]          18,624\n",
              "│    │    └─BasicConv2d: 3-9                  [10, 128, 27, 27]         110,848\n",
              "│    └─Sequential: 2-5                        [10, 32, 27, 27]          --\n",
              "│    │    └─BasicConv2d: 3-10                 [10, 16, 27, 27]          3,104\n",
              "│    │    └─BasicConv2d: 3-11                 [10, 32, 27, 27]          4,672\n",
              "│    └─Sequential: 2-6                        [10, 32, 27, 27]          --\n",
              "│    │    └─MaxPool2d: 3-12                   [10, 192, 27, 27]         --\n",
              "│    │    └─BasicConv2d: 3-13                 [10, 32, 27, 27]          6,208\n",
              "├─InceptionNet: 1-6                           [10, 480, 27, 27]         --\n",
              "│    └─Sequential: 2-7                        [10, 128, 27, 27]         --\n",
              "│    │    └─BasicConv2d: 3-14                 [10, 128, 27, 27]         33,024\n",
              "│    └─Sequential: 2-8                        [10, 192, 27, 27]         --\n",
              "│    │    └─BasicConv2d: 3-15                 [10, 128, 27, 27]         33,024\n",
              "│    │    └─BasicConv2d: 3-16                 [10, 192, 27, 27]         221,568\n",
              "│    └─Sequential: 2-9                        [10, 96, 27, 27]          --\n",
              "│    │    └─BasicConv2d: 3-17                 [10, 32, 27, 27]          8,256\n",
              "│    │    └─BasicConv2d: 3-18                 [10, 96, 27, 27]          27,840\n",
              "│    └─Sequential: 2-10                       [10, 64, 27, 27]          --\n",
              "│    │    └─MaxPool2d: 3-19                   [10, 256, 27, 27]         --\n",
              "│    │    └─BasicConv2d: 3-20                 [10, 64, 27, 27]          16,512\n",
              "├─MaxPool2d: 1-7                              [10, 480, 14, 14]         --\n",
              "├─InceptionNet: 1-8                           [10, 512, 14, 14]         --\n",
              "│    └─Sequential: 2-11                       [10, 192, 14, 14]         --\n",
              "│    │    └─BasicConv2d: 3-21                 [10, 192, 14, 14]         92,544\n",
              "│    └─Sequential: 2-12                       [10, 208, 14, 14]         --\n",
              "│    │    └─BasicConv2d: 3-22                 [10, 96, 14, 14]          46,272\n",
              "│    │    └─BasicConv2d: 3-23                 [10, 208, 14, 14]         180,128\n",
              "│    └─Sequential: 2-13                       [10, 48, 14, 14]          --\n",
              "│    │    └─BasicConv2d: 3-24                 [10, 16, 14, 14]          7,712\n",
              "│    │    └─BasicConv2d: 3-25                 [10, 48, 14, 14]          7,008\n",
              "│    └─Sequential: 2-14                       [10, 64, 14, 14]          --\n",
              "│    │    └─MaxPool2d: 3-26                   [10, 480, 14, 14]         --\n",
              "│    │    └─BasicConv2d: 3-27                 [10, 64, 14, 14]          30,848\n",
              "├─InceptionNet: 1-9                           [10, 512, 14, 14]         --\n",
              "│    └─Sequential: 2-15                       [10, 160, 14, 14]         --\n",
              "│    │    └─BasicConv2d: 3-28                 [10, 160, 14, 14]         82,240\n",
              "│    └─Sequential: 2-16                       [10, 224, 14, 14]         --\n",
              "│    │    └─BasicConv2d: 3-29                 [10, 112, 14, 14]         57,568\n",
              "│    │    └─BasicConv2d: 3-30                 [10, 224, 14, 14]         226,240\n",
              "│    └─Sequential: 2-17                       [10, 64, 14, 14]          --\n",
              "│    │    └─BasicConv2d: 3-31                 [10, 24, 14, 14]          12,336\n",
              "│    │    └─BasicConv2d: 3-32                 [10, 64, 14, 14]          13,952\n",
              "│    └─Sequential: 2-18                       [10, 64, 14, 14]          --\n",
              "│    │    └─MaxPool2d: 3-33                   [10, 512, 14, 14]         --\n",
              "│    │    └─BasicConv2d: 3-34                 [10, 64, 14, 14]          32,896\n",
              "├─InceptionNet: 1-10                          [10, 512, 14, 14]         --\n",
              "│    └─Sequential: 2-19                       [10, 128, 14, 14]         --\n",
              "│    │    └─BasicConv2d: 3-35                 [10, 128, 14, 14]         65,792\n",
              "│    └─Sequential: 2-20                       [10, 256, 14, 14]         --\n",
              "│    │    └─BasicConv2d: 3-36                 [10, 128, 14, 14]         65,792\n",
              "│    │    └─BasicConv2d: 3-37                 [10, 256, 14, 14]         295,424\n",
              "│    └─Sequential: 2-21                       [10, 64, 14, 14]          --\n",
              "│    │    └─BasicConv2d: 3-38                 [10, 24, 14, 14]          12,336\n",
              "│    │    └─BasicConv2d: 3-39                 [10, 64, 14, 14]          13,952\n",
              "│    └─Sequential: 2-22                       [10, 64, 14, 14]          --\n",
              "│    │    └─MaxPool2d: 3-40                   [10, 512, 14, 14]         --\n",
              "│    │    └─BasicConv2d: 3-41                 [10, 64, 14, 14]          32,896\n",
              "├─InceptionNet: 1-11                          [10, 528, 14, 14]         --\n",
              "│    └─Sequential: 2-23                       [10, 112, 14, 14]         --\n",
              "│    │    └─BasicConv2d: 3-42                 [10, 112, 14, 14]         57,568\n",
              "│    └─Sequential: 2-24                       [10, 288, 14, 14]         --\n",
              "│    │    └─BasicConv2d: 3-43                 [10, 144, 14, 14]         74,016\n",
              "│    │    └─BasicConv2d: 3-44                 [10, 288, 14, 14]         373,824\n",
              "│    └─Sequential: 2-25                       [10, 64, 14, 14]          --\n",
              "│    │    └─BasicConv2d: 3-45                 [10, 32, 14, 14]          16,448\n",
              "│    │    └─BasicConv2d: 3-46                 [10, 64, 14, 14]          18,560\n",
              "│    └─Sequential: 2-26                       [10, 64, 14, 14]          --\n",
              "│    │    └─MaxPool2d: 3-47                   [10, 512, 14, 14]         --\n",
              "│    │    └─BasicConv2d: 3-48                 [10, 64, 14, 14]          32,896\n",
              "├─InceptionNet: 1-12                          [10, 832, 14, 14]         --\n",
              "│    └─Sequential: 2-27                       [10, 256, 14, 14]         --\n",
              "│    │    └─BasicConv2d: 3-49                 [10, 256, 14, 14]         135,680\n",
              "│    └─Sequential: 2-28                       [10, 320, 14, 14]         --\n",
              "│    │    └─BasicConv2d: 3-50                 [10, 160, 14, 14]         84,800\n",
              "│    │    └─BasicConv2d: 3-51                 [10, 320, 14, 14]         461,440\n",
              "│    └─Sequential: 2-29                       [10, 128, 14, 14]         --\n",
              "│    │    └─BasicConv2d: 3-52                 [10, 32, 14, 14]          16,960\n",
              "│    │    └─BasicConv2d: 3-53                 [10, 128, 14, 14]         37,120\n",
              "│    └─Sequential: 2-30                       [10, 128, 14, 14]         --\n",
              "│    │    └─MaxPool2d: 3-54                   [10, 528, 14, 14]         --\n",
              "│    │    └─BasicConv2d: 3-55                 [10, 128, 14, 14]         67,840\n",
              "├─MaxPool2d: 1-13                             [10, 832, 7, 7]           --\n",
              "├─InceptionNet: 1-14                          [10, 832, 7, 7]           --\n",
              "│    └─Sequential: 2-31                       [10, 256, 7, 7]           --\n",
              "│    │    └─BasicConv2d: 3-56                 [10, 256, 7, 7]           213,504\n",
              "│    └─Sequential: 2-32                       [10, 320, 7, 7]           --\n",
              "│    │    └─BasicConv2d: 3-57                 [10, 160, 7, 7]           133,440\n",
              "│    │    └─BasicConv2d: 3-58                 [10, 320, 7, 7]           461,440\n",
              "│    └─Sequential: 2-33                       [10, 128, 7, 7]           --\n",
              "│    │    └─BasicConv2d: 3-59                 [10, 32, 7, 7]            26,688\n",
              "│    │    └─BasicConv2d: 3-60                 [10, 128, 7, 7]           37,120\n",
              "│    └─Sequential: 2-34                       [10, 128, 7, 7]           --\n",
              "│    │    └─MaxPool2d: 3-61                   [10, 832, 7, 7]           --\n",
              "│    │    └─BasicConv2d: 3-62                 [10, 128, 7, 7]           106,752\n",
              "├─InceptionNet: 1-15                          [10, 1024, 7, 7]          --\n",
              "│    └─Sequential: 2-35                       [10, 384, 7, 7]           --\n",
              "│    │    └─BasicConv2d: 3-63                 [10, 384, 7, 7]           320,256\n",
              "│    └─Sequential: 2-36                       [10, 384, 7, 7]           --\n",
              "│    │    └─BasicConv2d: 3-64                 [10, 192, 7, 7]           160,128\n",
              "│    │    └─BasicConv2d: 3-65                 [10, 384, 7, 7]           664,320\n",
              "│    └─Sequential: 2-37                       [10, 128, 7, 7]           --\n",
              "│    │    └─BasicConv2d: 3-66                 [10, 48, 7, 7]            40,032\n",
              "│    │    └─BasicConv2d: 3-67                 [10, 128, 7, 7]           55,552\n",
              "│    └─Sequential: 2-38                       [10, 128, 7, 7]           --\n",
              "│    │    └─MaxPool2d: 3-68                   [10, 832, 7, 7]           --\n",
              "│    │    └─BasicConv2d: 3-69                 [10, 128, 7, 7]           106,752\n",
              "├─AvgPool2d: 1-16                             [10, 1024, 1, 1]          --\n",
              "├─Linear: 1-17                                [10, 1000]                1,025,000\n",
              "===============================================================================================\n",
              "Total params: 13,023,000\n",
              "Trainable params: 13,023,000\n",
              "Non-trainable params: 0\n",
              "Total mult-adds (G): 14.34\n",
              "===============================================================================================\n",
              "Input size (MB): 6.02\n",
              "Forward/backward pass size (MB): 468.52\n",
              "Params size (MB): 26.48\n",
              "Estimated Total Size (MB): 501.03\n",
              "==============================================================================================="
            ]
          },
          "metadata": {},
          "execution_count": 18
        }
      ]
    },
    {
      "cell_type": "code",
      "source": [
        "x = torch.rand([10,3,224,224], dtype=torch.float)\n",
        "aux1, aux2, output = a(x)"
      ],
      "metadata": {
        "colab": {
          "base_uri": "https://localhost:8080/"
        },
        "id": "9N_O5PiLwMiH",
        "outputId": "55bc0d66-647f-4529-c488-5da6cc655fae"
      },
      "execution_count": 13,
      "outputs": [
        {
          "output_type": "stream",
          "name": "stderr",
          "text": [
            "/usr/local/lib/python3.10/dist-packages/torch/nn/functional.py:1331: UserWarning: dropout2d: Received a 2-D input to dropout2d, which is deprecated and will result in an error in a future release. To retain the behavior and silence this warning, please use dropout instead. Note that dropout2d exists to provide channel-wise dropout on inputs with 2 spatial dimensions, a channel dimension, and an optional batch dimension (i.e. 3D or 4D inputs).\n",
            "  warnings.warn(warn_msg)\n"
          ]
        },
        {
          "output_type": "stream",
          "name": "stdout",
          "text": [
            "forward working\n"
          ]
        }
      ]
    },
    {
      "cell_type": "code",
      "source": [
        "print(aux1.shape)\n",
        "print(aux2.shape)\n",
        "print(output.shape)"
      ],
      "metadata": {
        "colab": {
          "base_uri": "https://localhost:8080/"
        },
        "id": "sORLQoCIwd1s",
        "outputId": "f74df150-76a6-4843-cb41-2f23e8a63775"
      },
      "execution_count": 14,
      "outputs": [
        {
          "output_type": "stream",
          "name": "stdout",
          "text": [
            "torch.Size([10, 1000])\n",
            "torch.Size([10, 1000])\n",
            "torch.Size([10, 1000])\n"
          ]
        }
      ]
    },
    {
      "cell_type": "markdown",
      "source": [
        "# hyper parameters"
      ],
      "metadata": {
        "id": "QT6p9F6yfeBM"
      }
    },
    {
      "cell_type": "code",
      "source": [
        "root = '/content/drive/MyDrive/Colab Notebooks/data'\n",
        "BATCH_SIZE = 64\n",
        "LR = 2e-3\n",
        "LR_STEP = 8\n",
        "GAMMA = 4e-2\n",
        "EPOCH = 5\n",
        "criterion = nn.CrossEntropyLoss()\n",
        "MOMENTUM = 0.9\n",
        "num_classes = 1000\n",
        "dataset = ''"
      ],
      "metadata": {
        "id": "GzPL2knzgJ18"
      },
      "execution_count": 24,
      "outputs": []
    },
    {
      "cell_type": "code",
      "source": [
        "# # 이미지넷을 사용하기에는 데이터가 너무 커서 틀만 만들고 마무리\n",
        "\n",
        "# transform = transforms.ToTensor()\n",
        "# train_DS = datasets.ImageNet(root=root, split='train', download=True, transform=transform)\n",
        "# test_DS = datasets.ImageNet(root=root, split='val', download=True, transform=transform)\n",
        "# train_DL = torch.utils.data.DataLoader(train_DS, batch_size=BATCH_SIZE, shuffle=True)\n",
        "# test_DL = torch.utils.data.DataLoader(test_DS, batch_size=BATCH_SIZE, shuffle=True)"
      ],
      "metadata": {
        "id": "6KVMxXE8h022"
      },
      "execution_count": 25,
      "outputs": []
    },
    {
      "cell_type": "markdown",
      "source": [
        "# Train and Test"
      ],
      "metadata": {
        "id": "RzLMnMjzfi7L"
      }
    },
    {
      "cell_type": "code",
      "source": [
        "def Train(model, train_DL, criterion, optimizer,\n",
        "          EPOCH, BATCH_SIZE, TRAIN_RATIO, **kwargs):\n",
        "\n",
        "    if 'LR_STEP' in kwargs:\n",
        "        scheduler = StepLR(optimizer, stop_size=kwargs['LR_STEP'], gamma=kwargs['LR_GAMMA'])\n",
        "    else:\n",
        "        # scheduler 변수가 참조될 때, 선언이 안되었을 경우에 대비해서 만듬\n",
        "        scheduler = None\n",
        "\n",
        "    loss_history = {'train': [], 'val': []}\n",
        "    acc_history = {'train': [], 'val': []}\n",
        "    best_loss = 9999\n",
        "\n",
        "    for ep in range(EPOCH):\n",
        "        epoch_start = time.time()\n",
        "        current_lr = optimizer.param_groups[0]['lr']\n",
        "        print(f'Epoch: {ep+1}, current_LR = {current_lr}')\n",
        "\n",
        "        model.train()\n",
        "        train_loss, train_acc, _ = loss_epoch(model, train_DL, criterion, optimizer)\n",
        "        loss_history['train'] += [train_loss]\n",
        "        acc_history['train'] += [train_acc]\n",
        "\n",
        "        for x_batch, y_batch in train_DL:\n",
        "            x_batch = x_batch.to(DEVICE)\n",
        "            y_batch = y_batch.to(DEVICE)\n",
        "            # inference\n",
        "            aux1, aux2, y_hat = model(x_batch)\n",
        "            # loss\n",
        "            loss = criterion(y_hat, y_batch) + 0.3*criterion(aux1, y_batch) + 0.3*criterion(aux2, y_batch)\n",
        "            # update\n",
        "            optimizer.zero_grad()\n",
        "            loss.backward()\n",
        "            optimizer.step()\n",
        "            # loss accumulation\n",
        "            loss_b = loss.item() * x_batch.shape[0]\n",
        "            rloss += loss_b\n",
        "\n",
        "        # print loss\n",
        "        loss_e = rloss/NoT\n",
        "        loss_history += [loss_e]\n",
        "        print(f\"Epoch: {ep+1}, train loss: {round(loss_e,3)}\")\n",
        "        print(\"-\"*20)\n",
        "\n",
        "    return loss_history\n",
        "\n",
        "def loss_epoch(model, DL, criterion, optimizer=None):\n",
        "    N = len(DL.dataset)\n",
        "    eloss = 0; correct = 0\n",
        "\n",
        "    for x_batch, y_batch in tqdm(DL, leave=False):\n",
        "        x_batch = x_batch.to(DEVICE); y_batch = y_batch.to(DEVICE)\n",
        "        # inference\n",
        "        aux1, aux2, y_hat = model(x_batch)\n",
        "        # loss\n",
        "        loss = loss = criterion(y_hat, y_batch) + 0.3*criterion(aux1, y_batch) + 0.3*criterion(aux2, y_batch)\n",
        "        # update\n",
        "        if model.training and optimizer is not None:\n",
        "            optimizer.zero_grad()\n",
        "            loss.backward()\n",
        "            optimizer.step()\n",
        "        # loss accumulateion\n",
        "        bloss = loss.item * x_batch.shape[0]\n",
        "        sloss += bloss\n",
        "        # correct\n",
        "        correct += torch.sum(y_batch == y_hat.argmax(dim=1).item())\n",
        "\n",
        "    eloss = sloss/N\n",
        "    accuracy = correct/N * 100\n",
        "\n",
        "    return eloss, accuracy, correct"
      ],
      "metadata": {
        "id": "VH4x8Kn0c2GP"
      },
      "execution_count": null,
      "outputs": []
    },
    {
      "cell_type": "code",
      "source": [
        "model = InceptionNet_V1(num_classes)"
      ],
      "metadata": {
        "id": "4hEsYNeLjas-"
      },
      "execution_count": 22,
      "outputs": []
    },
    {
      "cell_type": "code",
      "source": [
        "optimizer = optim.SGD(model.parameters(), lr=LR, momentum = MOMENTUM)"
      ],
      "metadata": {
        "id": "6_h9I8IlmrYK"
      },
      "execution_count": 23,
      "outputs": []
    },
    {
      "cell_type": "code",
      "source": [
        "x = torch.tensor([1.], requires_grad=True)\n",
        "y = x**2\n",
        "z = 3*y\n",
        "\n",
        "y.backward()\n",
        "print(x.grad)"
      ],
      "metadata": {
        "id": "aB5gVPhk0Kq7",
        "outputId": "1340afb1-d00d-4fbe-d446-844cd3ff1790",
        "colab": {
          "base_uri": "https://localhost:8080/"
        }
      },
      "execution_count": 30,
      "outputs": [
        {
          "output_type": "stream",
          "name": "stdout",
          "text": [
            "tensor([2.])\n"
          ]
        }
      ]
    }
  ]
}